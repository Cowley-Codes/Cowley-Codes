{
 "cells": [
  {
   "cell_type": "markdown",
   "id": "dc9c8771-5e4b-48e7-b329-e885063bcf8a",
   "metadata": {},
   "source": [
    "# Obtaining Flight Data for Top Destinations #"
   ]
  },
  {
   "cell_type": "markdown",
   "id": "7b90e085-2519-4e08-84a0-faff13c0afda",
   "metadata": {},
   "source": [
    "## Overview\n",
    "This notebook combines functionality to:\n",
    "1. Filter destinations based on weather conditions similar to Greece (±2°C temperature, equal or lower rainfall)\n",
    "2. Sort remaining destinations by tourism levels to find quieter travel options\n",
    "3. Use SkyScanner API to retrieve flight information for the top destinations"
   ]
  },
  {
   "cell_type": "markdown",
   "id": "56c935f2-9d39-408a-ab55-e1829a76c57b",
   "metadata": {},
   "source": [
    "## Workflow\n",
    "1. Load and process weather data from `Completed_Weather_Data_For_Destinations.csv`\n",
    "2. Filter destinations with similar climate to Greece\n",
    "3. Sort by tourism levels to identify quieter alternatives\n",
    "4. Use SkyScanner API to retrieve location codes and IDs\n",
    "5. Search for flight options from selected origin to top destinations\n",
    "6. Export relevant flight data to Excel for further analysis"
   ]
  },
  {
   "cell_type": "code",
   "execution_count": null,
   "id": "b1544845-3688-4592-9326-2e6930c33265",
   "metadata": {},
   "outputs": [],
   "source": [
    "!pip install requests # Ensure requests installed to call the API"
   ]
  },
  {
   "cell_type": "code",
   "execution_count": null,
   "id": "5524323c-adb1-4f76-bbc9-9aaadac20f23",
   "metadata": {},
   "outputs": [],
   "source": [
    "!pip install pandas openpyxl  # to write results to a spreadsheet"
   ]
  },
  {
   "cell_type": "code",
   "execution_count": 1,
   "id": "cf111580-7807-41de-ba35-4afbbed4f6a9",
   "metadata": {},
   "outputs": [],
   "source": [
    "import pandas as pd # To use pandas library for cleaning, transforming and analysing data\n",
    "import requests # To call API\n",
    "import json # To format API responses\n",
    "from datetime import datetime # To use datetime formatting of arrival and departure of flights\n",
    "from pathlib import Path # all the data will be stored and looked for in the right place."
   ]
  },
  {
   "cell_type": "code",
   "execution_count": null,
   "id": "b9f87143-71c6-443c-bfd3-9a421fd35704",
   "metadata": {},
   "outputs": [],
   "source": [
    "RAPIDAPI_KEY = '******************************' # Enter your API key\n",
    "RAPIDAPI_HOST = '****************************' # Enter your API host name"
   ]
  },
  {
   "cell_type": "code",
   "execution_count": null,
   "id": "ff391452-6f62-4e03-9390-563fe71aac40",
   "metadata": {},
   "outputs": [],
   "source": [
    "# Need the code for origin and destination in order to search flights.\n",
    "# Therefore, using the auto-complete endpoint of SkyScanner API to retrieve the code using place name to query.\n",
    "\n",
    "def find_code(place):\n",
    "\n",
    "    url = 'https://skyscanner89.p.rapidapi.com/flights/auto-complete'\n",
    "    \n",
    "    headers = {\n",
    "    \t'x-rapidapi-key': RAPIDAPI_KEY,    \n",
    "    \t'x-rapidapi-host': RAPIDAPI_HOST    \n",
    "    }\n",
    "\n",
    "    query = {'query': place}\n",
    "\n",
    "    response = requests.get(url, headers=headers, params = query)\n",
    "\n",
    "    if response.status_code == 200:\n",
    "\n",
    "        result = response.json()\n",
    "    \n",
    "        suggested = result['inputSuggest']\n",
    "\n",
    "        if suggested:\n",
    "            choice = suggested[0]['navigation']['relevantFlightParams']\n",
    "            name = choice['localizedName']\n",
    "            code = choice['skyId']\n",
    "            _id = choice['entityId']\n",
    "            found_code = {'Name': name, 'Code': code, 'ID': _id}\n",
    "           # print(name, code, _id) to check \n",
    "    \n",
    "        return found_code\n",
    "\n",
    "    else:\n",
    "        print('Failed to retrieve data: ', response.status_code)\n",
    "        return response.text"
   ]
  },
  {
   "cell_type": "code",
   "execution_count": null,
   "id": "d9858a93-6904-482d-863e-d0921b540dc1",
   "metadata": {},
   "outputs": [],
   "source": [
    "# checking function returns expected results\n",
    "# find_code('Majorca')"
   ]
  },
  {
   "cell_type": "code",
   "execution_count": null,
   "id": "0894f6f6-0ba9-48e7-a2f5-7f80fad4e5a0",
   "metadata": {},
   "outputs": [],
   "source": [
    "# checking\n",
    "# find_code('Manchester')['Code']"
   ]
  },
  {
   "cell_type": "code",
   "execution_count": null,
   "id": "09469ddb-99d5-4b92-a984-71b026a39a91",
   "metadata": {},
   "outputs": [],
   "source": [
    "# checking\n",
    "# find_code('London')"
   ]
  },
  {
   "cell_type": "code",
   "execution_count": null,
   "id": "cacc586c-708f-4d37-8531-63c5f75b7239",
   "metadata": {},
   "outputs": [],
   "source": [
    "# Writing function to retrieve flights.\n",
    "\n",
    "def find_flights(date, origin, origin_id, destination, destination_id):\n",
    "\n",
    "    url = 'https://skyscanner89.p.rapidapi.com/flights/one-way/list'\n",
    "\n",
    "    headers = {\n",
    "    \t'x-rapidapi-key': RAPIDAPI_KEY,      \n",
    "    \t'x-rapidapi-host': RAPIDAPI_HOST\n",
    "    }\n",
    "    \n",
    "    query = {\n",
    "        'date': date,\n",
    "        'origin': origin,\n",
    "        'originId': origin_id,\n",
    "        'destination': destination,\n",
    "        'destinationId': destination_id,\n",
    "        'adults':'1',\n",
    "        'locale':'en-GB'\n",
    "    }\n",
    "    \n",
    "    response = requests.get(url, headers=headers, params=query)\n",
    "\n",
    "    if response.status_code == 200:\n",
    "        flights = response.json()\n",
    "        search_results = flights['data']['itineraries']['buckets']\n",
    "        return search_results\n",
    "\n",
    "    else:\n",
    "        print('Failed to retrieve data: ', response.status_code)\n",
    "        return response.text\n"
   ]
  },
  {
   "cell_type": "markdown",
   "id": "8afe54ec-6fb4-461d-83fc-3ed76c8ea1a9",
   "metadata": {},
   "source": [
    "### Testing find_flights function ###"
   ]
  },
  {
   "cell_type": "code",
   "execution_count": null,
   "id": "6ae3665d-3fb1-45ff-a9ec-27071750e78d",
   "metadata": {},
   "outputs": [],
   "source": [
    "# Testing function\n",
    "# date = '2025-06-06'\n",
    "# origin = find_code('Manchester')['Code']\n",
    "# origin_id = find_code('Manchester')['ID']\n",
    "# destination = find_code('Majorca')['Code']\n",
    "# destination_id = find_code('Majorca')['ID']\n",
    "\n",
    "# man_to_maj = find_flights(date, origin, origin_id, destination, destination_id)"
   ]
  },
  {
   "cell_type": "markdown",
   "id": "1397442f-2e5c-4133-a923-61b6929253a5",
   "metadata": {},
   "source": [
    "### Testing appending relevant results to a list, to convert to a pandas dataframe ###"
   ]
  },
  {
   "cell_type": "code",
   "execution_count": null,
   "id": "a46b820d-4cbe-4288-9f5c-42b36d1e64c2",
   "metadata": {},
   "outputs": [],
   "source": [
    "# found_flights = [] # Using a list to collect the dictionaries, for easy conversion to pandas dataframe.\n",
    "\n",
    "# for result in man_to_maj:\n",
    "#     details = result['items'] #This is a list of dictionaries, so need to iterate through again\n",
    "\n",
    "#     for flight in details:\n",
    "        \n",
    "#         leg = flight.get('legs', [{}])[0] #These are each a list of length 1 and so need index [0]\n",
    "#         segment = leg.get('segments', [{}])[0]\n",
    "\n",
    "#         # These find the relevant info using the dictionary keys, .get used to avoid errors and provide defaults.\n",
    "    \n",
    "#         flight_id = flight.get('id', 'N/A')\n",
    "#         carrier_name = segment.get('marketingCarrier', {}).get('name', 'N/A')\n",
    "#         flight_number = segment.get('flightNumber', 'N/A')\n",
    "#         origin = leg.get('origin', {}).get('name', 'N/A')\n",
    "#         departure_dandt = leg.get('departure', '')\n",
    "#         destination = leg.get('destination', {}).get('name', 'N/A')\n",
    "#         arrival_dandt = leg.get('arrival', '')\n",
    "#         duration = leg.get('durationInMinutes', 'N/A')\n",
    "#         stops = leg.get('stopCount', 0)\n",
    "#         price = flight.get('price', {}).get('raw', 'N/A')\n",
    "\n",
    "        ## Arrival and departure date and time need splitting up, except where they are unavailable\n",
    "\n",
    "        # try:\n",
    "        #     departure_dt = datetime.fromisoformat(departure_dandt)\n",
    "        #     departure_date = departure_dt.strftime('%Y-%m-%d')\n",
    "        #     departure_time = departure_dt.strftime('%H:%M')\n",
    "        # except:\n",
    "        #     departure_date = departure_time = 'N/A'\n",
    "        \n",
    "        # try:\n",
    "        #     arrival_dt = datetime.fromisoformat(arrival_dandt)\n",
    "        #     arrival_date = arrival_dt.strftime('%Y-%m-%d')\n",
    "        #     arrival_time = arrival_dt.strftime('%H:%M')\n",
    "        # except:\n",
    "        #     arrival_date = arrival_time = 'N/A'\n",
    "    \n",
    "        # relevant_data = {'ID': flight_id,\n",
    "        #                  'Airline': carrier_name,\n",
    "        #                  'Flight no.': flight_number,\n",
    "        #                  'Origin': origin,\n",
    "        #                  'Departure': departure_dandt,\n",
    "        #                  'Departure date': departure_date,\n",
    "        #                  'Departure time': departure_time,\n",
    "        #                  'Destination': destination,\n",
    "        #                  'Arrival': arrival_dandt,\n",
    "        #                  'Arrival date': arrival_date,\n",
    "        #                  'Arrival time': arrival_time,\n",
    "        #                  'Duration': duration,\n",
    "        #                  'Stops': stops,\n",
    "        #                  'Price' : price}\n",
    "\n",
    "        # found_flights.append(relevant_data)"
   ]
  },
  {
   "cell_type": "code",
   "execution_count": null,
   "id": "3070dc73-1cab-46b4-91ea-cc9aee1bd8a3",
   "metadata": {},
   "outputs": [],
   "source": [
    "# print(found_flights) # Checking it works"
   ]
  },
  {
   "cell_type": "code",
   "execution_count": null,
   "id": "c9129619-cafa-478c-bbb2-0cf1513b0dc5",
   "metadata": {},
   "outputs": [],
   "source": [
    "# df = pd.DataFrame(found_flights)"
   ]
  },
  {
   "cell_type": "markdown",
   "id": "cd19f8fb-7d79-4408-bdf9-a61eec768b33",
   "metadata": {},
   "source": [
    "### Testing writing data to a csv file ###"
   ]
  },
  {
   "cell_type": "code",
   "execution_count": null,
   "id": "609c23b1-d4da-4152-94d6-69a7c1b5f2df",
   "metadata": {},
   "outputs": [],
   "source": [
    "# data_dir = Path('project_data')\n",
    "\n",
    "# excel_file_path = data_dir / 'man_to_maj_flights.xlsx'\n",
    "\n",
    "# df.to_excel(excel_file_path, index=False)\n",
    "\n",
    "# man_maj_sheet = pd.read_excel(excel_file_path)"
   ]
  },
  {
   "cell_type": "code",
   "execution_count": null,
   "id": "57ca013a-cbf7-4c61-9340-96d3c13133ab",
   "metadata": {},
   "outputs": [],
   "source": [
    "# man_maj_sheet #Reading the xlsx results"
   ]
  },
  {
   "cell_type": "markdown",
   "id": "4e566045-969b-444b-bd8f-83960e687c60",
   "metadata": {},
   "source": [
    "### Testing wrapping the above process into one function ###"
   ]
  },
  {
   "cell_type": "code",
   "execution_count": null,
   "id": "7cd02e30-b713-4580-802f-1ec9d4009a27",
   "metadata": {},
   "outputs": [],
   "source": [
    "# def search_flights(from_here, to_there):\n",
    "\n",
    "#     # Getting parameters\n",
    "\n",
    "#     date = '2025-06-06'\n",
    "#     origin = find_code(from_here)['Code']\n",
    "#     origin_id = find_code(from_here)['ID']\n",
    "#     destination = find_code(to_there)['Code']\n",
    "#     destination_id = find_code(to_there)['ID']\n",
    "\n",
    "#     from_here_to_there = find_flights(date, origin, origin_id, destination, destination_id)\n",
    "\n",
    "#     found_flights = [] # Using a list to collect the dictionaries, for easy conversion to pandas dataframe.\n",
    "\n",
    "#     for result in from_here_to_there:\n",
    "#         details = result['items'] #This is a list of dictionaries, so need to iterate through again\n",
    "    \n",
    "#         for flight in details:\n",
    "            \n",
    "#             leg = flight.get('legs', [{}])[0] #These are each a list of length 1 and so need index [0]\n",
    "#             segment = leg.get('segments', [{}])[0]\n",
    "    \n",
    "#             # These find the relevant info using the dictionary keys, .get used to avoid errors and provide defaults.\n",
    "        \n",
    "#             flight_id = flight.get('id', 'N/A')\n",
    "#             carrier_name = segment.get('marketingCarrier', {}).get('name', 'N/A')\n",
    "#             flight_number = segment.get('flightNumber', 'N/A')\n",
    "#             origin = leg.get('origin', {}).get('name', 'N/A')\n",
    "#             departure_dandt = leg.get('departure', '')\n",
    "#             destination = leg.get('destination', {}).get('name', 'N/A')\n",
    "#             arrival_dandt = leg.get('arrival', '')\n",
    "            # duration = leg.get('durationInMinutes', 'N/A')\n",
    "            # stops = leg.get('stopCount', 0)\n",
    "            # price = flight.get('price', {}).get('raw', 'N/A')\n",
    "    \n",
    "            # # Arrival and departure date and time need splitting up, except where they are unavailable\n",
    "    \n",
    "            # try:\n",
    "            #     departure_dt = datetime.fromisoformat(departure_dandt)\n",
    "            #     departure_date = departure_dt.strftime('%Y-%m-%d')\n",
    "            #     departure_time = departure_dt.strftime('%H:%M')\n",
    "            # except:\n",
    "            #     departure_date = departure_time = 'N/A'\n",
    "            \n",
    "            # try:\n",
    "            #     arrival_dt = datetime.fromisoformat(arrival_dandt)\n",
    "            #     arrival_date = arrival_dt.strftime('%Y-%m-%d')\n",
    "            #     arrival_time = arrival_dt.strftime('%H:%M')\n",
    "            # except:\n",
    "            #     arrival_date = arrival_time = 'N/A'\n",
    "\n",
    "            # relevant_data = {'ID': flight_id,\n",
    "            #                  'Airline': carrier_name,\n",
    "            #                  'Flight no.': flight_number,\n",
    "            #                  'Origin': origin,\n",
    "            #                  'Departure': departure_dandt,\n",
    "            #                  'Departure date': departure_date,\n",
    "            #                  'Departure time': departure_time,\n",
    "            #                  'Destination': destination,\n",
    "            #                  'Arrival': arrival_dandt,\n",
    "            #                  'Arrival date': arrival_date,\n",
    "            #                  'Arrival time': arrival_time,\n",
    "            #                  'Duration': duration,\n",
    "            #                  'Stops': stops,\n",
    "            #                  'Price' : price}\n",
    "    \n",
    "        #     found_flights.append(relevant_data)\n",
    "\n",
    "        # df = pd.DataFrame(found_flights)\n",
    "\n",
    "        # data_dir = Path('project_data')\n",
    "\n",
    "        # excel_file_path = data_dir / f'{from_here}_{to_there}_flights.xlsx'\n",
    "\n",
    "        # df.to_excel(excel_file_path, index=False)\n",
    "\n",
    "        # flights_sheet = pd.read_excel(excel_file_path)\n",
    "\n",
    "        # return flights_sheet"
   ]
  },
  {
   "cell_type": "code",
   "execution_count": null,
   "id": "22ecc666-c1dd-4917-a7db-3f601402bec8",
   "metadata": {},
   "outputs": [],
   "source": [
    "# search_flights('Manchester', 'Crete') # Checking it works "
   ]
  },
  {
   "cell_type": "markdown",
   "id": "b517cf1f-a0d7-40c2-80ea-dd432ef0386a",
   "metadata": {},
   "source": [
    "## Using the above function to gather relevant flight data for the top three destinations ##"
   ]
  },
  {
   "cell_type": "markdown",
   "id": "5728dddf-0184-447f-852b-110f79070b9d",
   "metadata": {},
   "source": [
    "The following was also displayed in notebook five. It has been included here as it is relevant to obtaining flight data."
   ]
  },
  {
   "cell_type": "code",
   "execution_count": 2,
   "id": "600607b9-6302-4833-a500-7a8e9ff256be",
   "metadata": {},
   "outputs": [
    {
     "data": {
      "text/html": [
       "<div>\n",
       "<style scoped>\n",
       "    .dataframe tbody tr th:only-of-type {\n",
       "        vertical-align: middle;\n",
       "    }\n",
       "\n",
       "    .dataframe tbody tr th {\n",
       "        vertical-align: top;\n",
       "    }\n",
       "\n",
       "    .dataframe thead th {\n",
       "        text-align: right;\n",
       "    }\n",
       "</style>\n",
       "<table border=\"1\" class=\"dataframe\">\n",
       "  <thead>\n",
       "    <tr style=\"text-align: right;\">\n",
       "      <th></th>\n",
       "      <th>Unnamed: 0</th>\n",
       "      <th>Country</th>\n",
       "      <th>Arrivals</th>\n",
       "      <th>Units</th>\n",
       "      <th>2018</th>\n",
       "      <th>2019</th>\n",
       "      <th>2020</th>\n",
       "      <th>2021</th>\n",
       "      <th>2022</th>\n",
       "      <th>Mean Total Arrivals</th>\n",
       "      <th>Recommendation</th>\n",
       "      <th>latitude</th>\n",
       "      <th>longitude</th>\n",
       "      <th>Avg Temp(°C)</th>\n",
       "      <th>Avg Rainfall(mm)</th>\n",
       "    </tr>\n",
       "  </thead>\n",
       "  <tbody>\n",
       "    <tr>\n",
       "      <th>0</th>\n",
       "      <td>0</td>\n",
       "      <td>Albania</td>\n",
       "      <td>total arrivals</td>\n",
       "      <td>thousands</td>\n",
       "      <td>5927.0</td>\n",
       "      <td>6406.0</td>\n",
       "      <td>2658.0</td>\n",
       "      <td>5689.0</td>\n",
       "      <td>7543.8</td>\n",
       "      <td>5644.76</td>\n",
       "      <td>Go</td>\n",
       "      <td>41.153332</td>\n",
       "      <td>20.168331</td>\n",
       "      <td>28.0</td>\n",
       "      <td>1.8</td>\n",
       "    </tr>\n",
       "    <tr>\n",
       "      <th>1</th>\n",
       "      <td>1</td>\n",
       "      <td>Algeria</td>\n",
       "      <td>total arrivals</td>\n",
       "      <td>thousands</td>\n",
       "      <td>2657.0</td>\n",
       "      <td>2371.0</td>\n",
       "      <td>591.0</td>\n",
       "      <td>125.0</td>\n",
       "      <td>1398.0</td>\n",
       "      <td>1428.40</td>\n",
       "      <td>Go</td>\n",
       "      <td>28.033886</td>\n",
       "      <td>1.659626</td>\n",
       "      <td>34.0</td>\n",
       "      <td>0.9</td>\n",
       "    </tr>\n",
       "    <tr>\n",
       "      <th>2</th>\n",
       "      <td>2</td>\n",
       "      <td>American Samoa</td>\n",
       "      <td>total arrivals</td>\n",
       "      <td>thousands</td>\n",
       "      <td>51.8</td>\n",
       "      <td>58.6</td>\n",
       "      <td>0.9</td>\n",
       "      <td>NaN</td>\n",
       "      <td>NaN</td>\n",
       "      <td>37.10</td>\n",
       "      <td>No Go</td>\n",
       "      <td>-14.270972</td>\n",
       "      <td>-170.132217</td>\n",
       "      <td>0.0</td>\n",
       "      <td>0.0</td>\n",
       "    </tr>\n",
       "    <tr>\n",
       "      <th>3</th>\n",
       "      <td>3</td>\n",
       "      <td>Andorra</td>\n",
       "      <td>total arrivals</td>\n",
       "      <td>thousands</td>\n",
       "      <td>8328.0</td>\n",
       "      <td>8235.0</td>\n",
       "      <td>5207.0</td>\n",
       "      <td>5422.0</td>\n",
       "      <td>8426.7</td>\n",
       "      <td>7123.74</td>\n",
       "      <td>Go</td>\n",
       "      <td>42.546245</td>\n",
       "      <td>1.601554</td>\n",
       "      <td>28.0</td>\n",
       "      <td>0.7</td>\n",
       "    </tr>\n",
       "    <tr>\n",
       "      <th>4</th>\n",
       "      <td>4</td>\n",
       "      <td>Angola</td>\n",
       "      <td>total arrivals</td>\n",
       "      <td>thousands</td>\n",
       "      <td>218.0</td>\n",
       "      <td>218.0</td>\n",
       "      <td>64.0</td>\n",
       "      <td>64.0</td>\n",
       "      <td>130.0</td>\n",
       "      <td>138.80</td>\n",
       "      <td>No Go</td>\n",
       "      <td>-11.202692</td>\n",
       "      <td>17.873887</td>\n",
       "      <td>0.0</td>\n",
       "      <td>0.0</td>\n",
       "    </tr>\n",
       "  </tbody>\n",
       "</table>\n",
       "</div>"
      ],
      "text/plain": [
       "   Unnamed: 0         Country        Arrivals      Units    2018    2019  \\\n",
       "0           0         Albania  total arrivals  thousands  5927.0  6406.0   \n",
       "1           1         Algeria  total arrivals  thousands  2657.0  2371.0   \n",
       "2           2  American Samoa  total arrivals  thousands    51.8    58.6   \n",
       "3           3         Andorra  total arrivals  thousands  8328.0  8235.0   \n",
       "4           4          Angola  total arrivals  thousands   218.0   218.0   \n",
       "\n",
       "     2020    2021    2022  Mean Total Arrivals Recommendation   latitude  \\\n",
       "0  2658.0  5689.0  7543.8              5644.76             Go  41.153332   \n",
       "1   591.0   125.0  1398.0              1428.40             Go  28.033886   \n",
       "2     0.9     NaN     NaN                37.10          No Go -14.270972   \n",
       "3  5207.0  5422.0  8426.7              7123.74             Go  42.546245   \n",
       "4    64.0    64.0   130.0               138.80          No Go -11.202692   \n",
       "\n",
       "    longitude  Avg Temp(°C)  Avg Rainfall(mm)  \n",
       "0   20.168331          28.0               1.8  \n",
       "1    1.659626          34.0               0.9  \n",
       "2 -170.132217           0.0               0.0  \n",
       "3    1.601554          28.0               0.7  \n",
       "4   17.873887           0.0               0.0  "
      ]
     },
     "execution_count": 2,
     "metadata": {},
     "output_type": "execute_result"
    }
   ],
   "source": [
    "df = pd.read_csv('project_data/Complete_Weather_Data_For_Destinations.csv')\n",
    "\n",
    "df.head()"
   ]
  },
  {
   "cell_type": "code",
   "execution_count": null,
   "id": "2194cf52-db5a-4151-a2ee-2147ab72ca83",
   "metadata": {},
   "outputs": [],
   "source": [
    "greece_df = df[df['Country'] == 'Greece']"
   ]
  },
  {
   "cell_type": "code",
   "execution_count": null,
   "id": "aacd4233-c8e3-4bfc-8837-edad7735be03",
   "metadata": {},
   "outputs": [],
   "source": [
    "greece_df.head()"
   ]
  },
  {
   "cell_type": "code",
   "execution_count": null,
   "id": "ff268f80-716a-4457-98eb-4c118cf79e57",
   "metadata": {},
   "outputs": [],
   "source": [
    "greece_data = df[df['Country'] == 'Greece'].iloc[0]"
   ]
  },
  {
   "cell_type": "code",
   "execution_count": null,
   "id": "eb6ac74f-a7e9-4d6b-b0c6-cf4102a0e01f",
   "metadata": {},
   "outputs": [],
   "source": [
    "greece_temp = greece_data['Avg Temp(°C)']\n",
    "greece_rain = greece_data['Avg Rainfall(mm)']"
   ]
  },
  {
   "cell_type": "code",
   "execution_count": null,
   "id": "7eeba728-7cdf-4e63-85cb-61c7414d5886",
   "metadata": {},
   "outputs": [],
   "source": [
    "# Filtering the countries based on temperature and rainfall in comparison to Greece\n",
    "top_destinations_df = df[\n",
    "    (df['Avg Temp(°C)'] >= greece_temp - 2) &\n",
    "    (df['Avg Temp(°C)'] <= greece_temp + 2) &\n",
    "    (df['Avg Rainfall(mm)'] <= greece_rain)\n",
    "]"
   ]
  },
  {
   "cell_type": "code",
   "execution_count": null,
   "id": "71eda808-57f3-4fe9-b433-ca07bd0ae758",
   "metadata": {},
   "outputs": [],
   "source": [
    "top_destinations_df.head()"
   ]
  },
  {
   "cell_type": "code",
   "execution_count": null,
   "id": "cba09372-0cea-4e3f-b631-f7a9baea3b44",
   "metadata": {},
   "outputs": [],
   "source": [
    "# Ordering the 5 countries from top_destinations_df from lowest total arrivals to highest\n",
    "ordered_top_destinations = top_destinations_df.sort_values('Mean Total Arrivals').reset_index(drop=True)"
   ]
  },
  {
   "cell_type": "code",
   "execution_count": null,
   "id": "53387d3b-40c3-492e-850b-db714130051e",
   "metadata": {},
   "outputs": [],
   "source": [
    "ordered_top_destinations.head()"
   ]
  },
  {
   "cell_type": "code",
   "execution_count": null,
   "id": "c88aad7a-deab-4d16-a9a5-31c0b3986d54",
   "metadata": {},
   "outputs": [],
   "source": [
    "# Testing function to find airport of capital of Aruba\n",
    "find_code('Oranjestad') "
   ]
  },
  {
   "cell_type": "code",
   "execution_count": null,
   "id": "313b0195-a7b5-4966-96e2-b6713204667e",
   "metadata": {},
   "outputs": [],
   "source": [
    "# Testing function to find airport of capital of Azerbaijan\n",
    "find_code('Baku')"
   ]
  },
  {
   "cell_type": "code",
   "execution_count": null,
   "id": "303ece54-44e8-40cb-98de-03c6f2d188d6",
   "metadata": {},
   "outputs": [],
   "source": [
    "# Testing function to find airport of capital of Australia\n",
    "find_code('Canberra')"
   ]
  },
  {
   "cell_type": "code",
   "execution_count": null,
   "id": "95704200-c660-4a12-88e2-9d80232dda42",
   "metadata": {},
   "outputs": [],
   "source": [
    "# Testing function to find airport of capital of Greece\n",
    "find_code('Athens')"
   ]
  },
  {
   "cell_type": "code",
   "execution_count": null,
   "id": "2efd3b64-1ffd-491c-af1e-5228106fe69c",
   "metadata": {},
   "outputs": [],
   "source": [
    "date = '2025-06-06'\n",
    "origin = find_code('Manchester')['Code']\n",
    "origin_id = find_code('Manchester')['ID']\n",
    "destination = find_code('Athens')['Code']\n",
    "destination_id = find_code('Athens')['ID']\n",
    "\n",
    "man_to_athens = find_flights(date, origin, origin_id, destination, destination_id)"
   ]
  },
  {
   "cell_type": "code",
   "execution_count": null,
   "id": "7dfbec46-3841-4871-a120-bbf7857addc5",
   "metadata": {},
   "outputs": [],
   "source": [
    "data_dir = Path('project_data')\n",
    "\n",
    "excel_file_path = data_dir / 'man_to_athens_flights.xlsx'\n",
    "\n",
    "df.to_excel(excel_file_path, index=False)\n",
    "\n",
    "man_athens_sheet = pd.read_excel(excel_file_path)"
   ]
  },
  {
   "cell_type": "code",
   "execution_count": null,
   "id": "b9d3e34d-adf0-44ec-b6d7-9000cd0c42a0",
   "metadata": {},
   "outputs": [],
   "source": [
    "def search_flights(from_here, to_there):\n",
    "\n",
    "    # Getting parameters\n",
    "\n",
    "    date = '2025-06-06'\n",
    "    origin = find_code(from_here)['Code']\n",
    "    origin_id = find_code(from_here)['ID']\n",
    "    destination = find_code(to_there)['Code']\n",
    "    destination_id = find_code(to_there)['ID']\n",
    "\n",
    "    from_here_to_there = find_flights(date, origin, origin_id, destination, destination_id)\n",
    "\n",
    "    found_flights = [] # Using a list to collect the dictionaries, for easy conversion to pandas dataframe.\n",
    "\n",
    "    for result in from_here_to_there:\n",
    "        details = result['items'] #This is a list of dictionaries, so need to iterate through again\n",
    "    \n",
    "        for flight in details:\n",
    "            \n",
    "            leg = flight.get('legs', [{}])[0] #These are each a list of length 1 and so need index [0]\n",
    "            segment = leg.get('segments', [{}])[0]\n",
    "    \n",
    "            # These find the relevant info using the dictionary keys, .get used to avoid errors and provide defaults.\n",
    "        \n",
    "            flight_id = flight.get('id', 'N/A')\n",
    "            carrier_name = segment.get('marketingCarrier', {}).get('name', 'N/A')\n",
    "            flight_number = segment.get('flightNumber', 'N/A')\n",
    "            origin = leg.get('origin', {}).get('name', 'N/A')\n",
    "            departure_dandt = leg.get('departure', '')\n",
    "            destination = leg.get('destination', {}).get('name', 'N/A')\n",
    "            arrival_dandt = leg.get('arrival', '')\n",
    "            duration = leg.get('durationInMinutes', 'N/A')\n",
    "            stops = leg.get('stopCount', 0)\n",
    "            price = flight.get('price', {}).get('raw', 'N/A')\n",
    "    \n",
    "            # Arrival and departure date and time need splitting up, except where they are unavailable\n",
    "    \n",
    "            try:\n",
    "                departure_dt = datetime.fromisoformat(departure_dandt)\n",
    "                departure_date = departure_dt.strftime('%Y-%m-%d')\n",
    "                departure_time = departure_dt.strftime('%H:%M')\n",
    "            except:\n",
    "                departure_date = departure_time = 'N/A'\n",
    "            \n",
    "            try:\n",
    "                arrival_dt = datetime.fromisoformat(arrival_dandt)\n",
    "                arrival_date = arrival_dt.strftime('%Y-%m-%d')\n",
    "                arrival_time = arrival_dt.strftime('%H:%M')\n",
    "            except:\n",
    "                arrival_date = arrival_time = 'N/A'\n",
    "\n",
    "            relevant_data = {'ID': flight_id,\n",
    "                             'Airline': carrier_name,\n",
    "                             'Flight no.': flight_number,\n",
    "                             'Origin': origin,\n",
    "                             'Departure': departure_dandt,\n",
    "                             'Departure date': departure_date,\n",
    "                             'Departure time': departure_time,\n",
    "                             'Destination': destination,\n",
    "                             'Arrival': arrival_dandt,\n",
    "                             'Arrival date': arrival_date,\n",
    "                             'Arrival time': arrival_time,\n",
    "                             'Duration': duration,\n",
    "                             'Stops': stops,\n",
    "                             'Price' : price}\n",
    "    \n",
    "            found_flights.append(relevant_data)\n",
    "\n",
    "        df = pd.DataFrame(found_flights)\n",
    "\n",
    "        data_dir = Path('project_data')\n",
    "\n",
    "        excel_file_path = data_dir / f'{from_here}_{to_there}_flights.xlsx'\n",
    "\n",
    "        df.to_excel(excel_file_path, index=False)\n",
    "\n",
    "        flights_sheet = pd.read_excel(excel_file_path)\n",
    "\n",
    "        return flights_sheet"
   ]
  },
  {
   "cell_type": "code",
   "execution_count": null,
   "id": "35986b11-711a-4d71-9914-922078a8dd4e",
   "metadata": {},
   "outputs": [],
   "source": [
    "search_flights('Manchester', 'Oranjestad')"
   ]
  },
  {
   "cell_type": "code",
   "execution_count": null,
   "id": "21afa9b6-410c-4579-af4d-ac9a2cc79a1c",
   "metadata": {},
   "outputs": [],
   "source": [
    "search_flights('Manchester', 'Baku')"
   ]
  },
  {
   "cell_type": "code",
   "execution_count": null,
   "id": "f880ebfa-0795-49e0-9370-d377787c10bd",
   "metadata": {},
   "outputs": [],
   "source": [
    "search_flights('Manchester', 'Canberra')"
   ]
  },
  {
   "cell_type": "code",
   "execution_count": null,
   "id": "f78fcb20-3d37-4eb5-be78-99a43132b5fa",
   "metadata": {},
   "outputs": [],
   "source": [
    "search_flights('Manchester', 'Athens')"
   ]
  },
  {
   "cell_type": "markdown",
   "id": "f109fc20-54d9-4351-b6e4-568b516c328c",
   "metadata": {},
   "source": [
    "### Finding the minimum and average price of each flight, and the minimum and average flight duration to the three alternative destinations to Greece."
   ]
  },
  {
   "cell_type": "code",
   "execution_count": null,
   "id": "bcbeffd7-8664-448e-b765-8148de9e883b",
   "metadata": {},
   "outputs": [],
   "source": [
    "origin_city = 'Manchester'\n",
    "destinations = ['Oranjestad', 'Baku', 'Canberra']  \n",
    "\n",
    "summary_stats = []\n",
    "\n",
    "for city in destinations:\n",
    "    try:\n",
    "        print(f\"\\n Processing {origin_city} ➝ {city}\")\n",
    "        df = search_flights(origin_city, city)  # Using already written function\n",
    "\n",
    "    \n",
    "        df['Price'] = pd.to_numeric(df['Price'], errors='coerce')\n",
    "        df['Duration'] = pd.to_numeric(df['Duration'], errors='coerce')\n",
    "\n",
    "        min_price = df['Price'].min()\n",
    "        mean_price = df['Price'].mean()\n",
    "        min_duration = df['Duration'].min()\n",
    "        mean_duration = df['Duration'].mean()\n",
    "\n",
    "        summary_stats.append({\n",
    "            'Destination': city,\n",
    "            'Min Price (£)': round(min_price, 2),\n",
    "            'Avg Price (£)': round(mean_price, 2),\n",
    "            'Min Duration (min)': int(min_duration),\n",
    "            'Avg Duration (min)': round(mean_duration, 1)\n",
    "        })\n",
    "\n",
    "    except Exception as e:\n",
    "        print(f\" Could not process {city}: {e}\")\n",
    "\n",
    "summary_df = pd.DataFrame(summary_stats)\n",
    "\n",
    "print(summary_df)"
   ]
  },
  {
   "cell_type": "markdown",
   "id": "1fe37fcd-65b2-4685-ae92-50722e722c6d",
   "metadata": {},
   "source": [
    "Since writing the above function, we had attempted to call the SkyScanner API again to test our code. However, due to the API call limit, we were unable to obtain this data again. Therefore, an image below from an old version of this notebook has been uploaded, showing the data obtained at the time of calling this function. In order to plot graphs from this data, a dataframe was manually created based on this image."
   ]
  },
  {
   "cell_type": "markdown",
   "id": "f18bc84b-79a3-4338-bf87-1fa64d150cc5",
   "metadata": {},
   "source": [
    "<img src='images/Average Flights DataFrame.png' />"
   ]
  },
  {
   "cell_type": "code",
   "execution_count": null,
   "id": "3592c063-d629-4a57-8eb2-6695b6abe010",
   "metadata": {},
   "outputs": [],
   "source": [
    "flight_stats = {\n",
    "    \"Destination\": ['Oranjestad', 'Baku', 'Canberra'],\n",
    "    \"Min Price (£)\": [423.32, 187.32, 1122.38],\n",
    "    \"Avg Price (£)\": [629.51, 340.68, 1257.53],\n",
    "    \"Min Duration (min)\": [840, 495, 1520],\n",
    "    \"Avg Duration (min)\": [1299.4, 648.8, 1701.2]\n",
    "}\n",
    "\n",
    "flight_df = pd.DataFrame(flight_stats)"
   ]
  },
  {
   "cell_type": "code",
   "execution_count": 6,
   "id": "1a34e15c-9b58-4f6b-8914-a2123372b0ae",
   "metadata": {},
   "outputs": [
    {
     "data": {
      "text/html": [
       "<div>\n",
       "<style scoped>\n",
       "    .dataframe tbody tr th:only-of-type {\n",
       "        vertical-align: middle;\n",
       "    }\n",
       "\n",
       "    .dataframe tbody tr th {\n",
       "        vertical-align: top;\n",
       "    }\n",
       "\n",
       "    .dataframe thead th {\n",
       "        text-align: right;\n",
       "    }\n",
       "</style>\n",
       "<table border=\"1\" class=\"dataframe\">\n",
       "  <thead>\n",
       "    <tr style=\"text-align: right;\">\n",
       "      <th></th>\n",
       "      <th>Destination</th>\n",
       "      <th>Min Price (£)</th>\n",
       "      <th>Avg Price (£)</th>\n",
       "      <th>Min Duration (min)</th>\n",
       "      <th>Avg Duration (min)</th>\n",
       "    </tr>\n",
       "  </thead>\n",
       "  <tbody>\n",
       "    <tr>\n",
       "      <th>0</th>\n",
       "      <td>Oranjestad</td>\n",
       "      <td>423.32</td>\n",
       "      <td>629.51</td>\n",
       "      <td>840</td>\n",
       "      <td>1299.4</td>\n",
       "    </tr>\n",
       "    <tr>\n",
       "      <th>1</th>\n",
       "      <td>Baku</td>\n",
       "      <td>187.32</td>\n",
       "      <td>340.68</td>\n",
       "      <td>495</td>\n",
       "      <td>648.8</td>\n",
       "    </tr>\n",
       "    <tr>\n",
       "      <th>2</th>\n",
       "      <td>Canberra</td>\n",
       "      <td>1122.38</td>\n",
       "      <td>1257.53</td>\n",
       "      <td>1520</td>\n",
       "      <td>1701.2</td>\n",
       "    </tr>\n",
       "  </tbody>\n",
       "</table>\n",
       "</div>"
      ],
      "text/plain": [
       "  Destination  Min Price (£)  Avg Price (£)  Min Duration (min)  \\\n",
       "0  Oranjestad         423.32         629.51                 840   \n",
       "1        Baku         187.32         340.68                 495   \n",
       "2    Canberra        1122.38        1257.53                1520   \n",
       "\n",
       "   Avg Duration (min)  \n",
       "0              1299.4  \n",
       "1               648.8  \n",
       "2              1701.2  "
      ]
     },
     "execution_count": 6,
     "metadata": {},
     "output_type": "execute_result"
    }
   ],
   "source": [
    "flight_df"
   ]
  }
 ],
 "metadata": {
  "kernelspec": {
   "display_name": "Python 3 (ipykernel)",
   "language": "python",
   "name": "python3"
  },
  "language_info": {
   "codemirror_mode": {
    "name": "ipython",
    "version": 3
   },
   "file_extension": ".py",
   "mimetype": "text/x-python",
   "name": "python",
   "nbconvert_exporter": "python",
   "pygments_lexer": "ipython3",
   "version": "3.13.1"
  }
 },
 "nbformat": 4,
 "nbformat_minor": 5
}
